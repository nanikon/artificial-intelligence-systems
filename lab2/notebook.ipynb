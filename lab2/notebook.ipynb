{
  "metadata": {
    "language_info": {
      "name": "python"
    },
    "kernelspec": {
      "name": "python3",
      "display_name": "Python 3"
    },
    "colab": {
      "provenance": [],
      "collapsed_sections": [],
      "include_colab_link": true
    }
  },
  "nbformat_minor": 0,
  "nbformat": 4,
  "cells": [
    {
      "cell_type": "markdown",
      "metadata": {
        "id": "view-in-github",
        "colab_type": "text"
      },
      "source": [
        "<a href=\"https://colab.research.google.com/github/nanikon/artificial-intelligence-systems/blob/main/lab2/notebook.ipynb\" target=\"_parent\"><img src=\"https://colab.research.google.com/assets/colab-badge.svg\" alt=\"Open In Colab\"/></a>"
      ]
    },
    {
      "cell_type": "markdown",
      "source": [
        "# Лабораторная работа №2"
      ],
      "metadata": {
        "id": "p-lpYl9a01_r"
      }
    },
    {
      "cell_type": "markdown",
      "source": [
        "## Входные данные и инициализация"
      ],
      "metadata": {
        "id": "4vOM8VYz1BWz"
      }
    },
    {
      "cell_type": "code",
      "source": [
        "import networkx as nx\n",
        "%matplotlib inline"
      ],
      "metadata": {
        "trusted": true,
        "id": "rWD-HYt9k4ka"
      },
      "execution_count": 1,
      "outputs": []
    },
    {
      "cell_type": "markdown",
      "source": [
        "Строковые литералы городов"
      ],
      "metadata": {
        "id": "OJ3TdOfsk-ks"
      }
    },
    {
      "cell_type": "code",
      "source": [
        "vilnus = \"Вильнюс\"\n",
        "brest = \"Брест\"\n",
        "vitebsk = \"Витебск\"\n",
        "voronez = \"Воронеж\"\n",
        "volgograd = \"Волгоград\"\n",
        "niz_novgorod = \"Нижний Новгород\"\n",
        "daygavpils = \"Даугавпилс\"\n",
        "kaliningrad = \"Калининград\"\n",
        "kaynas = \"Каунас\"\n",
        "kiev = \"Киев\"\n",
        "zitomir = \"Житомир\"\n",
        "doneck = \"Донецк\"\n",
        "kichinev = \"Кишинев\"\n",
        "st_petersburg = \"Санкт-Петербург\"\n",
        "riga = \"Рига\"\n",
        "moscow = \"Москва\"\n",
        "kazan = \"Казань\"\n",
        "minsk = \"Минск\"\n",
        "murmansk = \"Мурманск\"\n",
        "orel = \"Орел\"\n",
        "odessa = \"Одесса\"\n",
        "tallin = \"Таллин\"\n",
        "harkov = 'Харьков'\n",
        "simferopol = \"Симферополь\"\n",
        "yaroslavl = \"Ярославль\"\n",
        "yfa = \"Уфа\"\n",
        "samara = \"Самара\""
      ],
      "metadata": {
        "trusted": true,
        "id": "lmhRc2-3k4ks"
      },
      "execution_count": 2,
      "outputs": []
    },
    {
      "cell_type": "markdown",
      "source": [
        "Граф в матричном представлении"
      ],
      "metadata": {
        "id": "Veg5z1NrlC5N"
      }
    },
    {
      "cell_type": "code",
      "source": [
        "cities = {\n",
        "    vilnus: {brest: 531, vitebsk: 360, daygavpils: 211, kaliningrad: 333, kaynas: 102, kiev: 734}, #6\n",
        "    brest: {vilnus: 531, vitebsk: 638, kaliningrad: 699}, # 3\n",
        "    vitebsk: {brest: 638, vilnus: 360, voronez: 869, volgograd: 1455, niz_novgorod: 911, st_petersburg: 602, orel: 522}, #7\n",
        "    voronez: {vitebsk: 869, volgograd: 581, yaroslavl: 739}, #3\n",
        "    volgograd: {vitebsk: 1455, voronez: 581, zitomir: 1493}, #3\n",
        "    niz_novgorod: {vitebsk: 911, moscow: 411}, #2\n",
        "    daygavpils: {vilnus: 211}, #1\n",
        "    kaliningrad: {brest: 699, vilnus: 333, st_petersburg: 739}, #3\n",
        "    kaynas: {vilnus: 102, riga: 267}, #2\n",
        "    kiev: {vilnus: 734, zitomir: 131, kichinev: 467, odessa: 487, harkov: 471}, #5\n",
        "    zitomir: {kiev: 131, doneck: 863, volgograd: 1493}, #3\n",
        "    doneck: {zitomir: 863, kichinev: 812, moscow: 1084, orel: 709}, #4\n",
        "    kichinev: {kiev: 467, doneck: 812}, #2\n",
        "    st_petersburg: {vitebsk: 602, kaliningrad: 739, riga: 641, moscow: 664, murmansk: 1412}, #5\n",
        "    riga: {st_petersburg: 641, kaynas: 267, tallin: 308}, #3\n",
        "    moscow: {kazan: 815, niz_novgorod: 411, minsk: 690, doneck: 1084, st_petersburg: 664, orel: 368}, #6\n",
        "    kazan: {moscow: 815, yfa: 525}, #2\n",
        "    minsk: {moscow: 690, murmansk: 2238, yaroslavl: 940}, #3\n",
        "    murmansk: {st_petersburg: 1412, minsk: 2238}, #2\n",
        "    orel: {vitebsk: 522, doneck: 709, moscow: 368}, #3\n",
        "    odessa: {kiev: 487}, #1\n",
        "    tallin: {riga: 308}, #1\n",
        "    harkov: {kiev: 471, simferopol: 639}, #2\n",
        "    simferopol: {harkov: 639}, #1\n",
        "    yaroslavl: {voronez: 739, minsk: 940}, #2\n",
        "    yfa: {kazan: 525, samara: 461}, #2\n",
        "    samara: {yfa: 461} #1\n",
        "}"
      ],
      "metadata": {
        "trusted": true,
        "id": "1AON0iNTk4ku"
      },
      "execution_count": 3,
      "outputs": []
    },
    {
      "cell_type": "markdown",
      "source": [
        "Отрисовка"
      ],
      "metadata": {
        "id": "9xqjLHpQlKvr"
      }
    },
    {
      "cell_type": "code",
      "source": [
        "G = nx.Graph()\n",
        "for first_city in cities.keys():\n",
        "    for second_city in cities[first_city]:\n",
        "        G.add_edge(first_city, second_city, weight = cities[first_city][second_city])\n",
        "nx.draw_networkx(G, pos=nx.spring_layout(G), with_labels = True, font_size = 7, node_size=300)"
      ],
      "metadata": {
        "trusted": true,
        "colab": {
          "base_uri": "https://localhost:8080/",
          "height": 248
        },
        "id": "IQwJJ7vSk4kw",
        "outputId": "6c0abe5f-e5ca-4881-d059-477307ae7381"
      },
      "execution_count": 5,
      "outputs": [
        {
          "output_type": "display_data",
          "data": {
            "text/plain": [
              "<Figure size 432x288 with 1 Axes>"
            ],
            "image/png": "[encoded data removed]"
          },
          "metadata": {}
        }
      ]
    },
    {
      "cell_type": "markdown",
      "source": [
        "Входные данные"
      ],
      "metadata": {
        "id": "5_mWprOtlN1j"
      }
    },
    {
      "cell_type": "code",
      "source": [
        "count_city = 27\n",
        "start_city = harkov\n",
        "final_city = niz_novgorod"
      ],
      "metadata": {
        "trusted": true,
        "id": "Yws78d3Dk4kz"
      },
      "execution_count": 6,
      "outputs": []
    },
    {
      "cell_type": "markdown",
      "source": [
        "Базовая функция для восстановления пути по словарю с родителями"
      ],
      "metadata": {
        "id": "QwKPXSlo8Cei"
      }
    },
    {
      "cell_type": "code",
      "source": [
        "def get_path(parents):  \n",
        "  path = []\n",
        "  len_path = 0\n",
        "  current_city = final_city\n",
        "  while (current_city != start_city):\n",
        "    path.append(current_city)\n",
        "    next_city = parents[current_city]\n",
        "    len_path += cities[current_city][next_city]\n",
        "    current_city = next_city\n",
        "  path.append(start_city)\n",
        "  path.reverse()\n",
        "  return len_path, path"
      ],
      "metadata": {
        "id": "DfzYqJFy8IPP"
      },
      "execution_count": 10,
      "outputs": []
    },
    {
      "cell_type": "markdown",
      "source": [
        "## Неинформированный поиск"
      ],
      "metadata": {
        "id": "_AOKwyWe0vMo"
      }
    },
    {
      "cell_type": "markdown",
      "source": [
        "Поиск в ширину (сложность О(v + e), v - кол-во вершин, e - кол-во ребер)"
      ],
      "metadata": {
        "id": "fE1cy6mJlQ8q"
      }
    },
    {
      "cell_type": "code",
      "source": [
        "from collections import deque\n",
        "\n",
        "def bfs():\n",
        "    visited = set()\n",
        "    queue = deque()\n",
        "    queue.append(start_city)\n",
        "    parents = dict()\n",
        "    while (len(queue) != 0):\n",
        "        current_city = queue.popleft()\n",
        "        for city in cities[current_city]:\n",
        "            if (city not in visited):\n",
        "                queue.append(city)\n",
        "                visited.add(city)\n",
        "                parents[city] = current_city\n",
        "        if current_city == final_city:\n",
        "            break\n",
        "    len_path, path = get_path(parents)\n",
        "    print(path)\n",
        "    print(len_path)\n",
        "    \n",
        "bfs()"
      ],
      "metadata": {
        "trusted": true,
        "colab": {
          "base_uri": "https://localhost:8080/"
        },
        "id": "YRu0JaOJk4k0",
        "outputId": "e6c5b68d-4b58-4af2-aaaf-c5815379336f"
      },
      "execution_count": 11,
      "outputs": [
        {
          "output_type": "stream",
          "name": "stdout",
          "text": [
            "['Харьков', 'Киев', 'Вильнюс', 'Витебск', 'Нижний Новгород']\n",
            "2476\n"
          ]
        }
      ]
    },
    {
      "cell_type": "markdown",
      "source": [
        "Поиск в глубину (сложность О(v + e), v - кол-во вершин, e - кол-во ребер)"
      ],
      "metadata": {
        "id": "VxZKerwBowMy"
      }
    },
    {
      "cell_type": "code",
      "source": [
        "from collections import deque\n",
        "\n",
        "def dfs():\n",
        "  visited = set()\n",
        "  stack = deque()\n",
        "  stack.append(start_city)\n",
        "  parents = dict()\n",
        "  while(len(stack) != 0):\n",
        "    current_city = stack.pop()\n",
        "    if current_city == final_city:\n",
        "      break\n",
        "    for city in cities[current_city]:\n",
        "      if (city not in visited):\n",
        "        stack.append(city)\n",
        "        visited.add(city)\n",
        "        parents[city] = current_city\n",
        "  len_path, path = get_path(parents)\n",
        "  print(path)\n",
        "  print(len_path)\n",
        "\n",
        "dfs()"
      ],
      "metadata": {
        "colab": {
          "base_uri": "https://localhost:8080/"
        },
        "id": "KpRSjRsjk4k2",
        "outputId": "d669ccf3-20d5-4e8e-a513-dd8034e56ef5"
      },
      "execution_count": 12,
      "outputs": [
        {
          "output_type": "stream",
          "name": "stdout",
          "text": [
            "['Харьков', 'Киев', 'Кишинев', 'Донецк', 'Орел', 'Витебск', 'Нижний Новгород']\n",
            "3892\n"
          ]
        }
      ]
    },
    {
      "cell_type": "markdown",
      "source": [
        "Поиск с ограничением глубины"
      ],
      "metadata": {
        "id": "lR5T4-7Yp2On"
      }
    },
    {
      "cell_type": "code",
      "source": [
        "from collections import deque\n",
        "\n",
        "def is_int(s):\n",
        "    try:\n",
        "        int(s)\n",
        "        return True\n",
        "    except ValueError:\n",
        "        return False\n",
        "\n",
        "def dfs_depth_limitation(limit_depth):\n",
        "  if limit_depth < 1:\n",
        "    print('limit_depth must be more or equal one')\n",
        "    return False\n",
        "  if not(is_int(str(limit_depth))):\n",
        "    print('limit_depth must be integer')\n",
        "    return False\n",
        "  visited = set()\n",
        "  stack = deque()\n",
        "  stack.append((start_city, 0))\n",
        "  parents = dict()\n",
        "  while(len(stack) != 0):\n",
        "    current_city, depth = stack.pop()\n",
        "    if (depth >= limit_depth):\n",
        "      continue\n",
        "    for city in cities[current_city]:\n",
        "      if not(city in visited):\n",
        "        stack.append((city, depth + 1))\n",
        "        visited.add(city)\n",
        "        parents[city] = current_city\n",
        "        if city == final_city:\n",
        "          stack.clear()\n",
        "  path = []\n",
        "  len_path = 0\n",
        "  current_city = final_city\n",
        "  success = True\n",
        "  while (current_city != start_city):\n",
        "    path.append(current_city)\n",
        "    try:\n",
        "      next_city = parents[current_city]\n",
        "      len_path += cities[current_city][next_city]\n",
        "      current_city = next_city\n",
        "    except KeyError as e:\n",
        "      success = False\n",
        "      break\n",
        "  if success:\n",
        "    path.append(start_city)\n",
        "    path.reverse()\n",
        "    print(path)\n",
        "    print(len_path)\n",
        "  else:\n",
        "    print(\"Can't find path with\", limit_depth, \"depth limitation\")\n",
        "  return success\n",
        "\n",
        "dfs_depth_limitation(6)"
      ],
      "metadata": {
        "colab": {
          "base_uri": "https://localhost:8080/"
        },
        "id": "dU_jNyA9p4hA",
        "outputId": "de2187e4-42ba-497c-ac65-225420e8a058"
      },
      "execution_count": 13,
      "outputs": [
        {
          "output_type": "stream",
          "name": "stdout",
          "text": [
            "['Харьков', 'Киев', 'Кишинев', 'Донецк', 'Орел', 'Витебск', 'Нижний Новгород']\n",
            "3892\n"
          ]
        },
        {
          "output_type": "execute_result",
          "data": {
            "text/plain": [
              "True"
            ]
          },
          "metadata": {},
          "execution_count": 13
        }
      ]
    },
    {
      "cell_type": "markdown",
      "source": [
        "Поиск с итеративным углублением"
      ],
      "metadata": {
        "id": "xGhQtfch7HB5"
      }
    },
    {
      "cell_type": "code",
      "source": [
        "def dfs_iteration_limit():\n",
        "  success = False\n",
        "  i = 1\n",
        "  while (not success):\n",
        "    success = dfs_depth_limitation(i)\n",
        "    i += 1\n",
        "\n",
        "dfs_iteration_limit()"
      ],
      "metadata": {
        "colab": {
          "base_uri": "https://localhost:8080/"
        },
        "id": "Bb1ow3ft7PB8",
        "outputId": "32693487-e68d-45f3-91d9-2cc34b1503a5"
      },
      "execution_count": 14,
      "outputs": [
        {
          "output_type": "stream",
          "name": "stdout",
          "text": [
            "Can't find path with 1 depth limitation\n",
            "Can't find path with 2 depth limitation\n",
            "Can't find path with 3 depth limitation\n",
            "Can't find path with 4 depth limitation\n",
            "['Харьков', 'Киев', 'Кишинев', 'Донецк', 'Москва', 'Нижний Новгород']\n",
            "3245\n"
          ]
        }
      ]
    },
    {
      "cell_type": "markdown",
      "source": [
        "Двунаправленный поиск"
      ],
      "metadata": {
        "id": "8iMTviCc73O6"
      }
    },
    {
      "cell_type": "code",
      "source": [
        "from collections import deque\n",
        "\n",
        "def bidirectional_bfs():\n",
        "    visited = set()\n",
        "    start_queue = deque()\n",
        "    start_queue.append(start_city)\n",
        "    final_queue = deque()\n",
        "    final_queue.append(final_city)\n",
        "    start_parents = dict()\n",
        "    final_parents = dict()\n",
        "    medium_city = \"\"\n",
        "    while(len(start_queue) != 0 or len(final_queue) != 0):\n",
        "      start_current_city = start_queue.popleft()\n",
        "      final_current_city = final_queue.popleft()\n",
        "      is_continue = True\n",
        "      for city in cities[start_current_city]:\n",
        "        if (city not in visited):\n",
        "          start_queue.append(city)\n",
        "          visited.add(city)\n",
        "          start_parents[city] = start_current_city\n",
        "        elif city in final_parents:\n",
        "          is_continue = False\n",
        "          start_parents[city] = start_current_city\n",
        "          medium_city = city\n",
        "          break\n",
        "      for city in cities[final_current_city]:\n",
        "        if (city not in visited):\n",
        "          final_queue.append(city)\n",
        "          visited.add(city)\n",
        "          final_parents[city] = final_current_city\n",
        "        elif city in start_parents:\n",
        "          is_continue = False\n",
        "          final_parents[city] = final_current_city\n",
        "          medium_city = city\n",
        "          break\n",
        "      if not is_continue:\n",
        "        break\n",
        "    path = []\n",
        "    len_path = 0\n",
        "    current_city = medium_city\n",
        "    while (current_city != start_city):\n",
        "        path.append(current_city)\n",
        "        next_city = start_parents[current_city]\n",
        "        len_path += cities[current_city][next_city]\n",
        "        current_city = next_city\n",
        "    path.append(start_city)\n",
        "    path.reverse()\n",
        "    current_city = medium_city\n",
        "    while (current_city != final_city):\n",
        "      next_city = final_parents[current_city]\n",
        "      len_path += cities[current_city][next_city]\n",
        "      current_city = next_city\n",
        "      path.append(current_city)\n",
        "    print(path)\n",
        "    print(len_path)\n",
        "bidirectional_bfs()"
      ],
      "metadata": {
        "colab": {
          "base_uri": "https://localhost:8080/"
        },
        "id": "u_b67IYO8Dsh",
        "outputId": "68be599e-1c33-47af-e57a-f160803c4ff0"
      },
      "execution_count": 15,
      "outputs": [
        {
          "output_type": "stream",
          "name": "stdout",
          "text": [
            "['Харьков', 'Киев', 'Вильнюс', 'Витебск', 'Нижний Новгород']\n",
            "2476\n"
          ]
        }
      ]
    },
    {
      "cell_type": "markdown",
      "source": [
        "## Информированный поиск "
      ],
      "metadata": {
        "id": "jzOiD8iv0kmp"
      }
    },
    {
      "cell_type": "markdown",
      "source": [
        "Жадный поиск по первому наилучшему соответствию"
      ],
      "metadata": {
        "id": "SNVM7IhQpPIO"
      }
    },
    {
      "cell_type": "code",
      "source": [
        "def greedy_for_first_best_match():\n",
        "  len = 0\n",
        "  path = [start_city]\n",
        "  current_city = start_city\n",
        "  visited = set()\n",
        "  while (current_city != final_city):\n",
        "    visited.add(current_city)\n",
        "    candidat = \"\"\n",
        "    part_len = 1000000\n",
        "    for city in cities[current_city]:\n",
        "      if ((cities[current_city][city] < part_len) & (city not in visited)):\n",
        "        part_len = cities[current_city][city]\n",
        "        candidat = city\n",
        "    path.append(candidat)\n",
        "    current_city = candidat\n",
        "    len += part_len\n",
        "  print(len)\n",
        "  print(path)\n",
        "\n",
        "greedy_for_first_best_match()"
      ],
      "metadata": {
        "colab": {
          "base_uri": "https://localhost:8080/"
        },
        "id": "qgbWg87KproO",
        "outputId": "67f525c4-24a0-47b7-a546-a5e8ef5855e0"
      },
      "execution_count": 16,
      "outputs": [
        {
          "output_type": "stream",
          "name": "stdout",
          "text": [
            "2953\n",
            "['Харьков', 'Киев', 'Житомир', 'Донецк', 'Орел', 'Москва', 'Нижний Новгород']\n"
          ]
        }
      ]
    },
    {
      "cell_type": "markdown",
      "source": [
        "Данные расстояния по прямой взяты с http://rasstoyanie.info/"
      ],
      "metadata": {
        "id": "nsdtbLbPjlDX"
      }
    },
    {
      "cell_type": "code",
      "source": [
        "straight_distance = {\n",
        "  vilnus: 1194,\n",
        "  brest: 1401,\n",
        "  vitebsk: 874,\n",
        "  voronez: 607,\n",
        "  volgograd: 849,\n",
        "  niz_novgorod: 0,\n",
        "  daygavpils: 1086,\n",
        "  kaliningrad: 1488,\n",
        "  kaynas: 1273,\n",
        "  kiev: 1107,\n",
        "  zitomir: 1222,\n",
        "  doneck: 1017,\n",
        "  kichinev: 1468,\n",
        "  st_petersburg: 899,\n",
        "  riga: 1219,\n",
        "  moscow: 403,\n",
        "  kazan: 323,\n",
        "  minsk: 1081,\n",
        "  murmansk: 1511,\n",
        "  orel: 634,\n",
        "  odessa: 1428,\n",
        "  tallin: 1189,\n",
        "  harkov: 875,\n",
        "  simferopol: 1443,\n",
        "  yaroslavl: 289,\n",
        "  yfa: 774,\n",
        "  samara: 524\n",
        "}"
      ],
      "metadata": {
        "id": "ISu97gTA0snZ"
      },
      "execution_count": 17,
      "outputs": []
    },
    {
      "cell_type": "markdown",
      "source": [
        "Метод минимизации суммарной оценки стоимости решения A*"
      ],
      "metadata": {
        "id": "z2ATCcOME06D"
      }
    },
    {
      "cell_type": "code",
      "source": [
        "from ast import Break\n",
        "from collections import deque\n",
        "\n",
        "is_finish = False\n",
        "\n",
        "def min_total_score_a():\n",
        "  queue = [(0, start_city)]\n",
        "  visited = set()\n",
        "  parents = dict()\n",
        "  minimus = dict()\n",
        "  result_len = 0\n",
        "  while (len(queue) != 0):\n",
        "    queue.sort(key= lambda x: x[0])\n",
        "    current_function, current_city = queue.pop(0)\n",
        "    visited.add(current_city)\n",
        "    if (current_city == final_city):\n",
        "      result_len = current_function\n",
        "      break\n",
        "    for city in cities[current_city]:\n",
        "      function = current_function + cities[current_city][city] + straight_distance[city]\n",
        "      if (city not in visited) and ((city not in minimus) or (minimus[city] > function)):\n",
        "        minimus[city] = function\n",
        "        parents[city] = current_city\n",
        "        queue.append((function, city))\n",
        "  len_path, path = get_path(parents)\n",
        "  print(len_path)\n",
        "  print(path)\n",
        "  \n",
        "min_total_score_a()"
      ],
      "metadata": {
        "colab": {
          "base_uri": "https://localhost:8080/"
        },
        "id": "S-EbS7oFFBVV",
        "outputId": "7969f40a-8043-4ae6-8062-c2084613f027"
      },
      "execution_count": 19,
      "outputs": [
        {
          "output_type": "stream",
          "name": "stdout",
          "text": [
            "2476\n",
            "['Харьков', 'Киев', 'Вильнюс', 'Витебск', 'Нижний Новгород']\n"
          ]
        }
      ]
    }
  ]
}